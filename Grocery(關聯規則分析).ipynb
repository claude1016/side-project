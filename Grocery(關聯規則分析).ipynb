{
 "cells": [
  {
   "cell_type": "code",
   "execution_count": 18,
   "metadata": {},
   "outputs": [],
   "source": [
    "import pandas as pd\n",
    "import os\n",
    "from apyori import apriori"
   ]
  },
  {
   "cell_type": "code",
   "execution_count": 19,
   "metadata": {},
   "outputs": [
    {
     "data": {
      "text/plain": [
       "'C:\\\\Users\\\\Claude\\\\Desktop\\\\NKUST\\\\碩一下\\\\service decision\\\\HW3'"
      ]
     },
     "execution_count": 19,
     "metadata": {},
     "output_type": "execute_result"
    }
   ],
   "source": [
    "os.getcwd()"
   ]
  },
  {
   "cell_type": "code",
   "execution_count": 20,
   "metadata": {},
   "outputs": [],
   "source": [
    "path=r'C:\\Users\\Claude\\Desktop\\NKUST\\碩一下\\service decision\\HW3\\Grocery.csv' #讀取路徑"
   ]
  },
  {
   "cell_type": "code",
   "execution_count": 21,
   "metadata": {},
   "outputs": [],
   "source": [
    "o=open(path) #轉換路徑"
   ]
  },
  {
   "cell_type": "code",
   "execution_count": 22,
   "metadata": {
    "scrolled": true
   },
   "outputs": [],
   "source": [
    "data=pd.read_csv(o,engine='python')"
   ]
  },
  {
   "cell_type": "code",
   "execution_count": 23,
   "metadata": {},
   "outputs": [],
   "source": [
    "first=list(data.columns)"
   ]
  },
  {
   "cell_type": "code",
   "execution_count": 24,
   "metadata": {},
   "outputs": [],
   "source": [
    "arr=list(data.values[:])"
   ]
  },
  {
   "cell_type": "code",
   "execution_count": 25,
   "metadata": {},
   "outputs": [
    {
     "name": "stdout",
     "output_type": "stream",
     "text": [
      "[['MILK,BREAD,BISCUIT'], ['BREAD,MILK,BISCUIT,CORNFLAKES'], ['BREAD,TEA,BOURNVITA'], ['JAM,MAGGI,BREAD,MILK'], ['MAGGI,TEA,BISCUIT'], ['BREAD,TEA,BOURNVITA'], ['MAGGI,TEA,CORNFLAKES'], ['MAGGI,BREAD,TEA,BISCUIT'], ['JAM,MAGGI,BREAD,TEA'], ['BREAD,MILK'], ['COFFEE,COCK,BISCUIT,CORNFLAKES'], ['COFFEE,COCK,BISCUIT,CORNFLAKES'], ['COFFEE,SUGER,BOURNVITA'], ['BREAD,COFFEE,COCK'], ['BREAD,SUGER,BISCUIT'], ['COFFEE,SUGER,CORNFLAKES'], ['BREAD,SUGER,BOURNVITA'], ['BREAD,COFFEE,SUGER'], ['BREAD,COFFEE,SUGER'], ['TEA,MILK,COFFEE,CORNFLAKES']]\n"
     ]
    }
   ],
   "source": [
    "set=[first]\n",
    "for items in data.values[:]:\n",
    "        set.append(list(items))\n",
    "print(set) "
   ]
  },
  {
   "cell_type": "code",
   "execution_count": 26,
   "metadata": {},
   "outputs": [
    {
     "name": "stdout",
     "output_type": "stream",
     "text": [
      "[RelationRecord(items=frozenset({'BREAD,COFFEE,SUGER'}), support=0.1, ordered_statistics=[OrderedStatistic(items_base=frozenset(), items_add=frozenset({'BREAD,COFFEE,SUGER'}), confidence=0.1, lift=1.0)]), RelationRecord(items=frozenset({'BREAD,TEA,BOURNVITA'}), support=0.1, ordered_statistics=[OrderedStatistic(items_base=frozenset(), items_add=frozenset({'BREAD,TEA,BOURNVITA'}), confidence=0.1, lift=1.0)]), RelationRecord(items=frozenset({'COFFEE,COCK,BISCUIT,CORNFLAKES'}), support=0.1, ordered_statistics=[OrderedStatistic(items_base=frozenset(), items_add=frozenset({'COFFEE,COCK,BISCUIT,CORNFLAKES'}), confidence=0.1, lift=1.0)])]\n"
     ]
    }
   ],
   "source": [
    "association_rules=apriori(set,min_support=0.1,min_confidence=0.1,min_lift=1,min_length=1)\n",
    "association_results = list(association_rules)\n",
    "print(association_results)"
   ]
  },
  {
   "cell_type": "code",
   "execution_count": null,
   "metadata": {},
   "outputs": [],
   "source": []
  },
  {
   "cell_type": "code",
   "execution_count": null,
   "metadata": {},
   "outputs": [],
   "source": []
  },
  {
   "cell_type": "code",
   "execution_count": null,
   "metadata": {},
   "outputs": [],
   "source": []
  },
  {
   "cell_type": "code",
   "execution_count": null,
   "metadata": {},
   "outputs": [],
   "source": []
  },
  {
   "cell_type": "code",
   "execution_count": null,
   "metadata": {},
   "outputs": [],
   "source": []
  }
 ],
 "metadata": {
  "kernelspec": {
   "display_name": "Python 3",
   "language": "python",
   "name": "python3"
  },
  "language_info": {
   "codemirror_mode": {
    "name": "ipython",
    "version": 3
   },
   "file_extension": ".py",
   "mimetype": "text/x-python",
   "name": "python",
   "nbconvert_exporter": "python",
   "pygments_lexer": "ipython3",
   "version": "3.7.1"
  }
 },
 "nbformat": 4,
 "nbformat_minor": 2
}
