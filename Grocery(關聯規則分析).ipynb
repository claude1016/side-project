{
 "cells": [
  {
   "cell_type": "code",
   "execution_count": 1,
   "metadata": {},
   "outputs": [],
   "source": [
    "import pandas as pd\n",
    "import os\n",
    "from apyori import apriori"
   ]
  },
  {
   "cell_type": "code",
   "execution_count": 2,
   "metadata": {},
   "outputs": [
    {
     "data": {
      "text/plain": [
       "'C:\\\\Users\\\\Claude\\\\Desktop\\\\NKUST\\\\碩一(下)\\\\服務決策數據\\\\HW3'"
      ]
     },
     "execution_count": 2,
     "metadata": {},
     "output_type": "execute_result"
    }
   ],
   "source": [
    "os.getcwd()"
   ]
  },
  {
   "cell_type": "code",
   "execution_count": 3,
   "metadata": {},
   "outputs": [],
   "source": [
    "path=r'C:\\Users\\Claude\\Desktop\\NKUST\\碩一(下)\\服務決策數據\\HW3\\Grocery.csv' #讀取路徑"
   ]
  },
  {
   "cell_type": "code",
   "execution_count": 4,
   "metadata": {},
   "outputs": [],
   "source": [
    "o=open(path) #轉換路徑"
   ]
  },
  {
   "cell_type": "code",
   "execution_count": 5,
   "metadata": {
    "scrolled": true
   },
   "outputs": [],
   "source": [
    "data=pd.read_csv(o)"
   ]
  },
  {
   "cell_type": "code",
   "execution_count": 17,
   "metadata": {},
   "outputs": [],
   "source": [
    "first=list(data.columns)"
   ]
  },
  {
   "cell_type": "code",
   "execution_count": 14,
   "metadata": {},
   "outputs": [],
   "source": [
    "arr=list(data.values[:])"
   ]
  },
  {
   "cell_type": "code",
   "execution_count": 19,
   "metadata": {},
   "outputs": [
    {
     "name": "stdout",
     "output_type": "stream",
     "text": [
      "[['MILK,BREAD,BISCUIT'], ['BREAD,MILK,BISCUIT,CORNFLAKES'], ['BREAD,TEA,BOURNVITA'], ['JAM,MAGGI,BREAD,MILK'], ['MAGGI,TEA,BISCUIT'], ['BREAD,TEA,BOURNVITA'], ['MAGGI,TEA,CORNFLAKES'], ['MAGGI,BREAD,TEA,BISCUIT'], ['JAM,MAGGI,BREAD,TEA'], ['BREAD,MILK'], ['COFFEE,COCK,BISCUIT,CORNFLAKES'], ['COFFEE,COCK,BISCUIT,CORNFLAKES'], ['COFFEE,SUGER,BOURNVITA'], ['BREAD,COFFEE,COCK'], ['BREAD,SUGER,BISCUIT'], ['COFFEE,SUGER,CORNFLAKES'], ['BREAD,SUGER,BOURNVITA'], ['BREAD,COFFEE,SUGER'], ['BREAD,COFFEE,SUGER'], ['TEA,MILK,COFFEE,CORNFLAKES']]\n"
     ]
    }
   ],
   "source": [
    "set=[first]\n",
    "for items in data.values[:]:\n",
    "        set.append(list(items))\n",
    "print(set) "
   ]
  },
  {
   "cell_type": "code",
   "execution_count": 34,
   "metadata": {},
   "outputs": [
    {
     "name": "stdout",
     "output_type": "stream",
     "text": [
      "[RelationRecord(items=frozenset({'BREAD,COFFEE,SUGER'}), support=0.1, ordered_statistics=[OrderedStatistic(items_base=frozenset(), items_add=frozenset({'BREAD,COFFEE,SUGER'}), confidence=0.1, lift=1.0)]), RelationRecord(items=frozenset({'BREAD,TEA,BOURNVITA'}), support=0.1, ordered_statistics=[OrderedStatistic(items_base=frozenset(), items_add=frozenset({'BREAD,TEA,BOURNVITA'}), confidence=0.1, lift=1.0)]), RelationRecord(items=frozenset({'COFFEE,COCK,BISCUIT,CORNFLAKES'}), support=0.1, ordered_statistics=[OrderedStatistic(items_base=frozenset(), items_add=frozenset({'COFFEE,COCK,BISCUIT,CORNFLAKES'}), confidence=0.1, lift=1.0)])]\n"
     ]
    }
   ],
   "source": [
    "association_rules=apriori(set,min_support=0.1,min_confidence=0.1,min_lift=1,min_length=1)\n",
    "association_results = list(association_rules)\n",
    "print(association_results)"
   ]
  },
  {
   "cell_type": "code",
   "execution_count": null,
   "metadata": {},
   "outputs": [],
   "source": []
  },
  {
   "cell_type": "code",
   "execution_count": null,
   "metadata": {},
   "outputs": [],
   "source": []
  },
  {
   "cell_type": "code",
   "execution_count": null,
   "metadata": {},
   "outputs": [],
   "source": []
  },
  {
   "cell_type": "code",
   "execution_count": null,
   "metadata": {},
   "outputs": [],
   "source": [
    "for  i  in  range(1,199):\n",
    "          name=data.columns[i]\n",
    "          data[name].replace(1,name,inplace=True) ##編碼轉換中文\n",
    "record = []\n",
    "set=[]\n",
    "for i in range(0,200):\n",
    "        for j in range(1,199):\n",
    "            record.append(data.values[i,j])\n",
    "        set.append(str(record))\n"
   ]
  },
  {
   "cell_type": "code",
   "execution_count": null,
   "metadata": {},
   "outputs": [],
   "source": [
    "association_rules=apriori(set,min_support=0.2,min_confidence=0.5,min_lift=1,min_length=2)\n",
    "association_results = list(association_rules)"
   ]
  },
  {
   "cell_type": "code",
   "execution_count": null,
   "metadata": {},
   "outputs": [],
   "source": []
  },
  {
   "cell_type": "code",
   "execution_count": null,
   "metadata": {},
   "outputs": [],
   "source": []
  }
 ],
 "metadata": {
  "kernelspec": {
   "display_name": "Python 3",
   "language": "python",
   "name": "python3"
  },
  "language_info": {
   "codemirror_mode": {
    "name": "ipython",
    "version": 3
   },
   "file_extension": ".py",
   "mimetype": "text/x-python",
   "name": "python",
   "nbconvert_exporter": "python",
   "pygments_lexer": "ipython3",
   "version": "3.7.1"
  }
 },
 "nbformat": 4,
 "nbformat_minor": 2
}
